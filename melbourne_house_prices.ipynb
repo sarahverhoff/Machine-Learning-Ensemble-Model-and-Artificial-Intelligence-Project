{
 "cells": [
  {
   "cell_type": "code",
   "execution_count": 4,
   "metadata": {},
   "outputs": [],
   "source": [
    "#!/usr/bin/env python\n",
    "import pandas as pd\n",
    "import numpy as np\n",
    "import matplotlib.pyplot as plt\n"
   ]
  },
  {
   "cell_type": "code",
   "execution_count": 5,
   "metadata": {},
   "outputs": [],
   "source": [
    "imput = pd.read_csv(\"melb_data.csv\")"
   ]
  },
  {
   "cell_type": "code",
   "execution_count": 7,
   "metadata": {},
   "outputs": [
    {
     "ename": "AttributeError",
     "evalue": "'str' object has no attribute 'describe'",
     "output_type": "error",
     "traceback": [
      "\u001b[1;31m---------------------------------------------------------------------------\u001b[0m",
      "\u001b[1;31mAttributeError\u001b[0m                            Traceback (most recent call last)",
      "Cell \u001b[1;32mIn[7], line 3\u001b[0m\n\u001b[0;32m      1\u001b[0m \u001b[39m#conducting the statistical count of the input data\u001b[39;00m\n\u001b[0;32m      2\u001b[0m imput \u001b[39m=\u001b[39m pd\u001b[39m.\u001b[39mread_csv(\u001b[39m\"\u001b[39m\u001b[39mmelb_data.csv\u001b[39m\u001b[39m\"\u001b[39m)\n\u001b[1;32m----> 3\u001b[0m \u001b[39minput\u001b[39;49m\u001b[39m.\u001b[39;49mdescribe()\n",
      "\u001b[1;31mAttributeError\u001b[0m: 'str' object has no attribute 'describe'"
     ]
    }
   ],
   "source": [
    "#conducting the statistical count of the input data\n",
    "imput = pd.read_csv(\"melb_data.csv\")\n",
    "input.describe()\n"
   ]
  }
 ],
 "metadata": {
  "kernelspec": {
   "display_name": "Python 3",
   "language": "python",
   "name": "python3"
  },
  "language_info": {
   "codemirror_mode": {
    "name": "ipython",
    "version": 3
   },
   "file_extension": ".py",
   "mimetype": "text/x-python",
   "name": "python",
   "nbconvert_exporter": "python",
   "pygments_lexer": "ipython3",
   "version": "3.11.1"
  },
  "orig_nbformat": 4,
  "vscode": {
   "interpreter": {
    "hash": "3ed4e39ae79d3534e451d12b3c1c99a2fcef7a3295202a17ad986835f17d71c4"
   }
  }
 },
 "nbformat": 4,
 "nbformat_minor": 2
}
