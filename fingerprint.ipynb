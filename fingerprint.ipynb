{
 "cells": [
  {
   "cell_type": "code",
   "execution_count": null,
   "metadata": {},
   "outputs": [],
   "source": [
    "#!/usr/bin/env python\n",
    "#developing the chemical fingerprints to generate the chemical descriptors\n",
    "\n",
    "import pandas as pd\n",
    "import rdkit as rd\n",
    "from rdkit import Chem\n"
   ]
  }
 ],
 "metadata": {
  "kernelspec": {
   "display_name": "Python 3",
   "language": "python",
   "name": "python3"
  },
  "language_info": {
   "name": "python",
   "version": "3.11.1"
  },
  "orig_nbformat": 4,
  "vscode": {
   "interpreter": {
    "hash": "3ed4e39ae79d3534e451d12b3c1c99a2fcef7a3295202a17ad986835f17d71c4"
   }
  }
 },
 "nbformat": 4,
 "nbformat_minor": 2
}
